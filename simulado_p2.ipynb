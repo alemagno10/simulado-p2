{
 "cells": [
  {
   "cell_type": "markdown",
   "metadata": {},
   "source": [
    "# Simulado: Prova 2 / CDados 2s2022"
   ]
  },
  {
   "cell_type": "code",
   "execution_count": 7,
   "metadata": {},
   "outputs": [],
   "source": [
    "import pandas as pd\n",
    "import matplotlib.pyplot as plt\n",
    "import scipy.stats as stats\n",
    "import numpy as np"
   ]
  },
  {
   "cell_type": "markdown",
   "metadata": {},
   "source": [
    "# Rubrica\n",
    "Em cada questão, alguns desses elementos se aplicam:\n",
    "\n",
    "| Elemento | Insuficiente | Suficiente | Proficiente | Avançado |\n",
    "| --- | --- | --- | --- | --- |\n",
    "| 1 | Os elementos de programação estão ausentes ou errados | O código gera resultado correto, embora tenha problemas na clareza ou não use estruturas relevantes como laços e nomes de variáveis fáceis de identificar | O código está claro e correto | O código está claro, funcional e bem comentado |\n",
    "| 2 | As informações não são escolhidas corretamente | As informações corretas são escolhidas, mas são apresentadas junto a várias outras informações irrelevantes | As informações corretas são escolhidas, e as irrelevantes são deixadas de lado | As informações corretas são escolhidas e justificadas |\n",
    "| 3 | Não há relação entre afirmações e medidas estatísticas | As medidas estatísticas são marginalmente relacionadas às afirmações | As medidas estatísticas são claramente relacionadas às afirmações | As medidas estatísticas são relacionadas às afirmações, e as respostas apontam as limitações dessas relações |\n",
    "| 4 | Não há figuras ou textos, ou eles estão factualmente errados | As figuras ou textos são prolixos ou pouco claros, embora tragam informações que apontem na direção da resposta correta | As figuras e textos são objetivos, claros e corretos | As figuras e textos são auto-suficientes, isto é, são tão claros que podem ser entendidos sem conhecer o enunciado da questão |"
   ]
  },
  {
   "cell_type": "markdown",
   "metadata": {},
   "source": [
    "# Exercício 1\n",
    "\n",
    "Neste simulado, vamos trabalhar com dados de doenças cardíacas. Eles estão no seguinte dataframe:"
   ]
  },
  {
   "cell_type": "code",
   "execution_count": 8,
   "metadata": {},
   "outputs": [
    {
     "data": {
      "text/html": [
       "<div>\n",
       "<style scoped>\n",
       "    .dataframe tbody tr th:only-of-type {\n",
       "        vertical-align: middle;\n",
       "    }\n",
       "\n",
       "    .dataframe tbody tr th {\n",
       "        vertical-align: top;\n",
       "    }\n",
       "\n",
       "    .dataframe thead th {\n",
       "        text-align: right;\n",
       "    }\n",
       "</style>\n",
       "<table border=\"1\" class=\"dataframe\">\n",
       "  <thead>\n",
       "    <tr style=\"text-align: right;\">\n",
       "      <th></th>\n",
       "      <th>HeartDisease</th>\n",
       "      <th>BMI</th>\n",
       "      <th>Smoking</th>\n",
       "      <th>AlcoholDrinking</th>\n",
       "      <th>Stroke</th>\n",
       "      <th>PhysicalHealth</th>\n",
       "      <th>MentalHealth</th>\n",
       "      <th>DiffWalking</th>\n",
       "      <th>Sex</th>\n",
       "      <th>AgeCategory</th>\n",
       "      <th>Race</th>\n",
       "      <th>Diabetic</th>\n",
       "      <th>PhysicalActivity</th>\n",
       "      <th>GenHealth</th>\n",
       "      <th>SleepTime</th>\n",
       "      <th>Asthma</th>\n",
       "      <th>KidneyDisease</th>\n",
       "      <th>SkinCancer</th>\n",
       "    </tr>\n",
       "  </thead>\n",
       "  <tbody>\n",
       "    <tr>\n",
       "      <th>0</th>\n",
       "      <td>No</td>\n",
       "      <td>16.60</td>\n",
       "      <td>Yes</td>\n",
       "      <td>No</td>\n",
       "      <td>No</td>\n",
       "      <td>3.0</td>\n",
       "      <td>30.0</td>\n",
       "      <td>No</td>\n",
       "      <td>Female</td>\n",
       "      <td>55-59</td>\n",
       "      <td>White</td>\n",
       "      <td>Yes</td>\n",
       "      <td>Yes</td>\n",
       "      <td>Very good</td>\n",
       "      <td>5.0</td>\n",
       "      <td>Yes</td>\n",
       "      <td>No</td>\n",
       "      <td>Yes</td>\n",
       "    </tr>\n",
       "    <tr>\n",
       "      <th>1</th>\n",
       "      <td>No</td>\n",
       "      <td>20.34</td>\n",
       "      <td>No</td>\n",
       "      <td>No</td>\n",
       "      <td>Yes</td>\n",
       "      <td>0.0</td>\n",
       "      <td>0.0</td>\n",
       "      <td>No</td>\n",
       "      <td>Female</td>\n",
       "      <td>80 or older</td>\n",
       "      <td>White</td>\n",
       "      <td>No</td>\n",
       "      <td>Yes</td>\n",
       "      <td>Very good</td>\n",
       "      <td>7.0</td>\n",
       "      <td>No</td>\n",
       "      <td>No</td>\n",
       "      <td>No</td>\n",
       "    </tr>\n",
       "    <tr>\n",
       "      <th>2</th>\n",
       "      <td>No</td>\n",
       "      <td>26.58</td>\n",
       "      <td>Yes</td>\n",
       "      <td>No</td>\n",
       "      <td>No</td>\n",
       "      <td>20.0</td>\n",
       "      <td>30.0</td>\n",
       "      <td>No</td>\n",
       "      <td>Male</td>\n",
       "      <td>65-69</td>\n",
       "      <td>White</td>\n",
       "      <td>Yes</td>\n",
       "      <td>Yes</td>\n",
       "      <td>Fair</td>\n",
       "      <td>8.0</td>\n",
       "      <td>Yes</td>\n",
       "      <td>No</td>\n",
       "      <td>No</td>\n",
       "    </tr>\n",
       "    <tr>\n",
       "      <th>3</th>\n",
       "      <td>No</td>\n",
       "      <td>24.21</td>\n",
       "      <td>No</td>\n",
       "      <td>No</td>\n",
       "      <td>No</td>\n",
       "      <td>0.0</td>\n",
       "      <td>0.0</td>\n",
       "      <td>No</td>\n",
       "      <td>Female</td>\n",
       "      <td>75-79</td>\n",
       "      <td>White</td>\n",
       "      <td>No</td>\n",
       "      <td>No</td>\n",
       "      <td>Good</td>\n",
       "      <td>6.0</td>\n",
       "      <td>No</td>\n",
       "      <td>No</td>\n",
       "      <td>Yes</td>\n",
       "    </tr>\n",
       "    <tr>\n",
       "      <th>4</th>\n",
       "      <td>No</td>\n",
       "      <td>23.71</td>\n",
       "      <td>No</td>\n",
       "      <td>No</td>\n",
       "      <td>No</td>\n",
       "      <td>28.0</td>\n",
       "      <td>0.0</td>\n",
       "      <td>Yes</td>\n",
       "      <td>Female</td>\n",
       "      <td>40-44</td>\n",
       "      <td>White</td>\n",
       "      <td>No</td>\n",
       "      <td>Yes</td>\n",
       "      <td>Very good</td>\n",
       "      <td>8.0</td>\n",
       "      <td>No</td>\n",
       "      <td>No</td>\n",
       "      <td>No</td>\n",
       "    </tr>\n",
       "  </tbody>\n",
       "</table>\n",
       "</div>"
      ],
      "text/plain": [
       "  HeartDisease    BMI Smoking AlcoholDrinking Stroke  PhysicalHealth  \\\n",
       "0           No  16.60     Yes              No     No             3.0   \n",
       "1           No  20.34      No              No    Yes             0.0   \n",
       "2           No  26.58     Yes              No     No            20.0   \n",
       "3           No  24.21      No              No     No             0.0   \n",
       "4           No  23.71      No              No     No            28.0   \n",
       "\n",
       "   MentalHealth DiffWalking     Sex  AgeCategory   Race Diabetic  \\\n",
       "0          30.0          No  Female        55-59  White      Yes   \n",
       "1           0.0          No  Female  80 or older  White       No   \n",
       "2          30.0          No    Male        65-69  White      Yes   \n",
       "3           0.0          No  Female        75-79  White       No   \n",
       "4           0.0         Yes  Female        40-44  White       No   \n",
       "\n",
       "  PhysicalActivity  GenHealth  SleepTime Asthma KidneyDisease SkinCancer  \n",
       "0              Yes  Very good        5.0    Yes            No        Yes  \n",
       "1              Yes  Very good        7.0     No            No         No  \n",
       "2              Yes       Fair        8.0    Yes            No         No  \n",
       "3               No       Good        6.0     No            No        Yes  \n",
       "4              Yes  Very good        8.0     No            No         No  "
      ]
     },
     "execution_count": 8,
     "metadata": {},
     "output_type": "execute_result"
    }
   ],
   "source": [
    "df = pd.read_csv('heart_2020_dirty.csv')\n",
    "df.head()"
   ]
  },
  {
   "cell_type": "markdown",
   "metadata": {},
   "source": [
    "Tipicamente, o Body Mass Index é interpretado como um número que informa se uma pessoa é magra, média, tem sobrepeso ou tem obesidade, usando a seguinte tabela:\n",
    "\n",
    "* Below 18.5\tUnderweight\n",
    "* 18.5 – 24.9\tHealthy Weight\n",
    "* 25.0 – 29.9\tOverweight\n",
    "* 30.0 and Above\tObesity\n",
    "\n",
    "(a) Verifique como encontrar os dados de Body Mass Index (BMI) em nosso dataframe. Se necessário, realize a limpeza dos dados.\n",
    "\n",
    "(b) Calcule a média e a variância *amostrais* desses dados\n",
    "\n",
    "(c) Se uma pessoa aleatória for sorteada nesses dados, qual é a probabilidade de ela ter o BMI médio, isto é, entre 18.5 e 24.9?\n",
    "\n",
    "(d) Se sorteamos 50 pessoas nos dados, qual é a probabilidade de pelo menos 20 delas terem BMI médio? Que distribuição deve ser usada para isso, e quais os seus parâmetros?\n",
    "\n",
    "(e) Se sorteamos 50 pessoas aleatórias em nosso dataset, quantas pessoas, em média, terão BMI médio?  Que distribuição deve ser usada para isso, e quais os seus parâmetros?\n",
    "\n",
    "(f) Se sortearmos pessoas uma a uma em nosso dataset, após quantas pessoas deveremos encontrar uma pessoa com BMI médio?  Que distribuição deve ser usada para isso, e quais os seus parâmetros?"
   ]
  },
  {
   "cell_type": "code",
   "execution_count": 22,
   "metadata": {},
   "outputs": [
    {
     "name": "stdout",
     "output_type": "stream",
     "text": [
      "28.3254038224607 40.400127101907685\n",
      "0.298047186478838\n",
      "0.9552603287379806\n"
     ]
    },
    {
     "ename": "TypeError",
     "evalue": "_parse_args() missing 1 required positional argument: 'p'",
     "output_type": "error",
     "traceback": [
      "\u001b[1;31m---------------------------------------------------------------------------\u001b[0m",
      "\u001b[1;31mTypeError\u001b[0m                                 Traceback (most recent call last)",
      "Cell \u001b[1;32mIn [22], line 20\u001b[0m\n\u001b[0;32m     17\u001b[0m \u001b[39mprint\u001b[39m(stats\u001b[39m.\u001b[39mbinom\u001b[39m.\u001b[39mcdf(\u001b[39m20\u001b[39m,\u001b[39m50\u001b[39m,health_mean))\n\u001b[0;32m     19\u001b[0m \u001b[39m#e)\u001b[39;00m\n\u001b[1;32m---> 20\u001b[0m \u001b[39mprint\u001b[39m(stats\u001b[39m.\u001b[39;49mbinom\u001b[39m.\u001b[39;49mppf(n\u001b[39m=\u001b[39;49m\u001b[39m50\u001b[39;49m, q\u001b[39m=\u001b[39;49mhealth_mean))\n",
      "File \u001b[1;32m~\\AppData\\Roaming\\Python\\Python310\\site-packages\\scipy\\stats\\_distn_infrastructure.py:3592\u001b[0m, in \u001b[0;36mrv_discrete.ppf\u001b[1;34m(self, q, *args, **kwds)\u001b[0m\n\u001b[0;32m   3573\u001b[0m \u001b[39mdef\u001b[39;00m \u001b[39mppf\u001b[39m(\u001b[39mself\u001b[39m, q, \u001b[39m*\u001b[39margs, \u001b[39m*\u001b[39m\u001b[39m*\u001b[39mkwds):\n\u001b[0;32m   3574\u001b[0m     \u001b[39m\"\"\"Percent point function (inverse of `cdf`) at q of the given RV.\u001b[39;00m\n\u001b[0;32m   3575\u001b[0m \n\u001b[0;32m   3576\u001b[0m \u001b[39m    Parameters\u001b[39;00m\n\u001b[1;32m   (...)\u001b[0m\n\u001b[0;32m   3590\u001b[0m \n\u001b[0;32m   3591\u001b[0m \u001b[39m    \"\"\"\u001b[39;00m\n\u001b[1;32m-> 3592\u001b[0m     args, loc, _ \u001b[39m=\u001b[39m \u001b[39mself\u001b[39m\u001b[39m.\u001b[39m_parse_args(\u001b[39m*\u001b[39margs, \u001b[39m*\u001b[39m\u001b[39m*\u001b[39mkwds)\n\u001b[0;32m   3593\u001b[0m     q, loc \u001b[39m=\u001b[39m \u001b[39mmap\u001b[39m(asarray, (q, loc))\n\u001b[0;32m   3594\u001b[0m     args \u001b[39m=\u001b[39m \u001b[39mtuple\u001b[39m(\u001b[39mmap\u001b[39m(asarray, args))\n",
      "\u001b[1;31mTypeError\u001b[0m: _parse_args() missing 1 required positional argument: 'p'"
     ]
    }
   ],
   "source": [
    "#a)\n",
    "df['BMI'].head()\n",
    "\n",
    "#b)\n",
    "bodymass = df['BMI']\n",
    "a=bodymass.mean()\n",
    "b=bodymass.var()\n",
    "print(a,b)\n",
    "\n",
    "#c)\n",
    "h = df[df['BMI'] > 18.4]\n",
    "health = h[h['BMI'] < 24.9]\n",
    "health_mean = len(health)/len(df)\n",
    "print(health_mean)\n",
    "\n",
    "#d) Binomial: Qnt de eventos, tamanho da amostra, probabilidade de ocorrer\n",
    "print(stats.binom.cdf(20,50,health_mean))\n",
    "\n",
    "#e)\n",
    "print(stats.binom.pmf(n=50, q=health_mean))"
   ]
  },
  {
   "cell_type": "markdown",
   "metadata": {},
   "source": [
    "# Exercício 2"
   ]
  },
  {
   "cell_type": "markdown",
   "metadata": {},
   "source": [
    "O senso comum nos diz que pessoas que fumam e bebem tendem a ter o BMI maior que aquelas que não fumam nem bebem. Verificaremos se isso se aplica ao nosso dataset.\n",
    "\n",
    "Use um histograma para avaliar a distribuição de BMI entre indivíduos que fumam e bebem e, simultaneamente, em indivíduos que não fumam nem bebem.\n"
   ]
  },
  {
   "cell_type": "code",
   "execution_count": 47,
   "metadata": {},
   "outputs": [
    {
     "data": {
      "image/png": "[encoded data removed]",
      "text/plain": [
       "<Figure size 640x480 with 1 Axes>"
      ]
     },
     "metadata": {},
     "output_type": "display_data"
    }
   ],
   "source": [
    "a = df[df['AlcoholDrinking'] == 'Yes']\n",
    "feb = a[a['Smoking'] == 'Yes']\n",
    "\n",
    "b = df[df['AlcoholDrinking'] == 'No']\n",
    "clean = b[b['Smoking'] == 'No']\n",
    "plt.figure()\n",
    "#feb['BMI'].plot(kind='hist', bins=30, alpha=0.5)\n",
    "#feb['BMI'].plot(kind='kde')\n",
    "\n",
    "plt.hist(feb['BMI'], bins=30, alpha=0.5)\n",
    "plt.hist(clean['BMI'], bins=30, alpha=0.5)\n",
    "plt.xticks(list(range(0,81,10)))\n",
    "plt.show()"
   ]
  },
  {
   "cell_type": "markdown",
   "metadata": {},
   "source": [
    "# Exercício 3\n",
    "\n",
    "Usando um método de inferência estatística, verifique se a média de BMI dos indivíduos que praticam esportes é diferente da média de BMI dos indivíduos que não praticam esportes. Justifique sua resposta com suas palavras, num texto que use, obrigatoriamente, os conceitos de hipótese nula, p-valor, teste estatístico e nível de significância $\\alpha$. Se precisar, assuma valores razoáveis para constantes."
   ]
  },
  {
   "cell_type": "code",
   "execution_count": 59,
   "metadata": {},
   "outputs": [
    {
     "name": "stdout",
     "output_type": "stream",
     "text": [
      "nan nan\n"
     ]
    }
   ],
   "source": [
    "# Hipotese Nula: BMI medio de esportistas == ao de sedentarios\n",
    "# HNula descartada para alpha: 5% \n",
    "\n",
    "esp = df[df['PhysicalActivity'] == 'Yes']\n",
    "sed = df[df['PhysicalActivity'] == 'No']\n",
    "\n",
    "t,p = stats.ttest_ind(list(esp['BMI']), list(sed['BMI']))\n",
    "print(t,p)\n"
   ]
  },
  {
   "cell_type": "markdown",
   "metadata": {},
   "source": [
    "# Exercício 4\n",
    "\n",
    "De acordo com os dados que levantamos ao longo de toda esta atividade, a prática de atividade física pode ser usada como intervenção única para que uma pessoa com obesidade possa voltar ao peso normal, ou é essencial que ela esteja ligada a outras intervenções? Justifique sua resposta evidenciando todos os dados que foram usados e quais raciocínios devemos usar para sustentar essa conclusão."
   ]
  },
  {
   "cell_type": "markdown",
   "metadata": {},
   "source": []
  }
 ],
 "metadata": {
  "kernelspec": {
   "display_name": "Python 3.10.8 64-bit",
   "language": "python",
   "name": "python3"
  },
  "language_info": {
   "codemirror_mode": {
    "name": "ipython",
    "version": 3
   },
   "file_extension": ".py",
   "mimetype": "text/x-python",
   "name": "python",
   "nbconvert_exporter": "python",
   "pygments_lexer": "ipython3",
   "version": "3.10.8"
  },
  "orig_nbformat": 4,
  "vscode": {
   "interpreter": {
    "hash": "26de051ba29f2982a8de78e945f0abaf191376122a1563185a90213a26c5da77"
   }
  }
 },
 "nbformat": 4,
 "nbformat_minor": 2
}
