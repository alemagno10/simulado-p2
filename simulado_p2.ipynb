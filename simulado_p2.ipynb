{
 "cells": [
  {
   "cell_type": "markdown",
   "metadata": {},
   "source": [
    "# Simulado: Prova 2 / CDados 2s2022"
   ]
  },
  {
   "cell_type": "code",
   "execution_count": 24,
   "metadata": {},
   "outputs": [],
   "source": [
    "import pandas as pd\n",
    "import matplotlib.pyplot as plt\n",
    "import scipy.stats as stats\n",
    "import numpy as np"
   ]
  },
  {
   "cell_type": "markdown",
   "metadata": {},
   "source": [
    "# Rubrica\n",
    "Em cada questão, alguns desses elementos se aplicam:\n",
    "\n",
    "| Elemento | Insuficiente | Suficiente | Proficiente | Avançado |\n",
    "| --- | --- | --- | --- | --- |\n",
    "| 1 | Os elementos de programação estão ausentes ou errados | O código gera resultado correto, embora tenha problemas na clareza ou não use estruturas relevantes como laços e nomes de variáveis fáceis de identificar | O código está claro e correto | O código está claro, funcional e bem comentado |\n",
    "| 2 | As informações não são escolhidas corretamente | As informações corretas são escolhidas, mas são apresentadas junto a várias outras informações irrelevantes | As informações corretas são escolhidas, e as irrelevantes são deixadas de lado | As informações corretas são escolhidas e justificadas |\n",
    "| 3 | Não há relação entre afirmações e medidas estatísticas | As medidas estatísticas são marginalmente relacionadas às afirmações | As medidas estatísticas são claramente relacionadas às afirmações | As medidas estatísticas são relacionadas às afirmações, e as respostas apontam as limitações dessas relações |\n",
    "| 4 | Não há figuras ou textos, ou eles estão factualmente errados | As figuras ou textos são prolixos ou pouco claros, embora tragam informações que apontem na direção da resposta correta | As figuras e textos são objetivos, claros e corretos | As figuras e textos são auto-suficientes, isto é, são tão claros que podem ser entendidos sem conhecer o enunciado da questão |"
   ]
  },
  {
   "cell_type": "markdown",
   "metadata": {},
   "source": [
    "# Exercício 1\n",
    "\n",
    "Neste simulado, vamos trabalhar com dados de doenças cardíacas. Eles estão no seguinte dataframe:"
   ]
  },
  {
   "cell_type": "code",
   "execution_count": 28,
   "metadata": {},
   "outputs": [],
   "source": [
    "df = pd.read_csv('heart_2020_dirty.csv')\n",
    "\n"
   ]
  },
  {
   "cell_type": "markdown",
   "metadata": {},
   "source": [
    "Tipicamente, o Body Mass Index é interpretado como um número que informa se uma pessoa é magra, média, tem sobrepeso ou tem obesidade, usando a seguinte tabela:\n",
    "\n",
    "* Below 18.5\tUnderweight\n",
    "* 18.5 – 24.9\tHealthy Weight\n",
    "* 25.0 – 29.9\tOverweight\n",
    "* 30.0 and Above\tObesity\n",
    "\n",
    "(a) Verifique como encontrar os dados de Body Mass Index (BMI) em nosso dataframe. Se necessário, realize a limpeza dos dados.\n",
    "\n",
    "(b) Calcule a média e a variância *amostrais* desses dados\n",
    "\n",
    "(c) Se uma pessoa aleatória for sorteada nesses dados, qual é a probabilidade de ela ter o BMI médio, isto é, entre 18.5 e 24.9?\n",
    "\n",
    "(d) Se sorteamos 50 pessoas nos dados, qual é a probabilidade de pelo menos 20 delas terem BMI médio? Que distribuição deve ser usada para isso, e quais os seus parâmetros?\n",
    "\n",
    "(e) Se sorteamos 50 pessoas aleatórias em nosso dataset, quantas pessoas, em média, terão BMI médio?  Que distribuição deve ser usada para isso, e quais os seus parâmetros?\n",
    "\n",
    "(f) Se sortearmos pessoas uma a uma em nosso dataset, após quantas pessoas deveremos encontrar uma pessoa com BMI médio?  Que distribuição deve ser usada para isso, e quais os seus parâmetros?"
   ]
  },
  {
   "cell_type": "markdown",
   "metadata": {},
   "source": [
    "# Exercício 2"
   ]
  },
  {
   "cell_type": "markdown",
   "metadata": {},
   "source": [
    "O senso comum nos diz que pessoas que fumam e bebem tendem a ter o BMI maior que aquelas que não fumam nem bebem. Verificaremos se isso se aplica ao nosso dataset.\n",
    "\n",
    "Use um histograma para avaliar a distribuição de BMI entre indivíduos que fumam e bebem e, simultaneamente, em indivíduos que não fumam nem bebem.\n"
   ]
  },
  {
   "cell_type": "code",
   "execution_count": null,
   "metadata": {},
   "outputs": [],
   "source": []
  },
  {
   "cell_type": "markdown",
   "metadata": {},
   "source": [
    "# Exercício 3\n",
    "\n",
    "Usando um método de inferência estatística, verifique se a média de BMI dos indivíduos que praticam esportes é diferente da média de BMI dos indivíduos que não praticam esportes. Justifique sua resposta com suas palavras, num texto que use, obrigatoriamente, os conceitos de hipótese nula, p-valor, teste estatístico e nível de significância $\\alpha$. Se precisar, assuma valores razoáveis para constantes."
   ]
  },
  {
   "cell_type": "code",
   "execution_count": null,
   "metadata": {},
   "outputs": [],
   "source": []
  },
  {
   "cell_type": "markdown",
   "metadata": {},
   "source": [
    "# Exercício 4\n",
    "\n",
    "De acordo com os dados que levantamos ao longo de toda esta atividade, a prática de atividade física pode ser usada como intervenção única para que uma pessoa com obesidade possa voltar ao peso normal, ou é essencial que ela esteja ligada a outras intervenções? Justifique sua resposta evidenciando todos os dados que foram usados e quais raciocínios devemos usar para sustentar essa conclusão."
   ]
  },
  {
   "cell_type": "markdown",
   "metadata": {},
   "source": []
  }
 ],
 "metadata": {
  "kernelspec": {
   "display_name": "Python 3.7.12",
   "language": "python",
   "name": "python3"
  },
  "language_info": {
   "codemirror_mode": {
    "name": "ipython",
    "version": 3
   },
   "file_extension": ".py",
   "mimetype": "text/x-python",
   "name": "python",
   "nbconvert_exporter": "python",
   "pygments_lexer": "ipython3",
   "version": "3.7.12"
  },
  "orig_nbformat": 4,
  "vscode": {
   "interpreter": {
    "hash": "48a163085726af4aa892ebfc5efd6be8ee4b935d9ea37781e4f79f4457b77d39"
   }
  }
 },
 "nbformat": 4,
 "nbformat_minor": 2
}
